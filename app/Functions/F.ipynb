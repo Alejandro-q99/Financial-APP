{
 "cells": [
  {
   "cell_type": "markdown",
   "metadata": {},
   "source": [
    "El por posito de este notebooks es considerar los calculos primero de manera regular y faciitarle luego al LLM que interprete."
   ]
  },
  {
   "cell_type": "code",
   "execution_count": 1,
   "metadata": {},
   "outputs": [],
   "source": [
    "import pandas as pd\n",
    "import matplotlib.pyplot as plt"
   ]
  },
  {
   "cell_type": "code",
   "execution_count": null,
   "metadata": {},
   "outputs": [],
   "source": [
    "\n",
    "def calcular_tipo_cambio_implícito(precios, plazos):\n",
    "    \"\"\"\n",
    "    Calcula el tipo de cambio implícito para un conjunto de instrumentos financieros.\n",
    "\n",
    "    :param precios: DataFrame con precios de los instrumentos en diferentes monedas y plazos.\n",
    "    :param plazos: Lista de los plazos a considerar (CI, 24h, 48h).\n",
    "    :return: DataFrame con los tipos de cambio implícitos calculados.\n",
    "    \"\"\"\n",
    "    resultados = pd.DataFrame()\n",
    "\n",
    "    for plazo in plazos:\n",
    "        for i in range(len(precios)):\n",
    "            for j in range(len(precios)):\n",
    "                if i != j:\n",
    "                    tipo_cambio = precios.iloc[i][plazo] / precios.iloc[j][plazo]\n",
    "                    resultados = resultados.append({\n",
    "                        'Instrumento1': precios.index[i],\n",
    "                        'Instrumento2': precios.index[j],\n",
    "                        'Plazo': plazo,\n",
    "                        'TipoCambioImplícito': tipo_cambio\n",
    "                    }, ignore_index=True)\n",
    "\n",
    "    return resultados\n"
   ]
  },
  {
   "cell_type": "code",
   "execution_count": 2,
   "metadata": {},
   "outputs": [],
   "source": [
    "\n",
    "def combinaciones_tipo_cambio_implícito(precios, plazos):\n",
    "    \"\"\"\n",
    "    Calcula todas las combinaciones posibles de tipos de cambio implícito.\n",
    "\n",
    "    :param precios: DataFrame con precios de los instrumentos en diferentes monedas y plazos.\n",
    "    :param plazos: Lista de los plazos a considerar (CI, 24h, 48h).\n",
    "    :return: DataFrame con todas las combinaciones de tipos de cambio implícitos.\n",
    "    \"\"\"\n",
    "    # Esta función se puede expandir para calcular combinaciones más complejas\n",
    "    return calcular_tipo_cambio_implícito(precios, plazos)\n"
   ]
  },
  {
   "cell_type": "code",
   "execution_count": 3,
   "metadata": {},
   "outputs": [],
   "source": [
    "\n",
    "def mejores_opciones_tipo_cambio(resultados, top_n=5):\n",
    "    \"\"\"\n",
    "    Selecciona y muestra las mejores opciones de tipo de cambio implícito.\n",
    "\n",
    "    :param resultados: DataFrame con los tipos de cambio implícitos calculados.\n",
    "    :param top_n: Número de mejores opciones para mostrar.\n",
    "    :return: DataFrame con las top_n mejores opciones.\n",
    "    \"\"\"\n",
    "    mejores = resultados.sort_values(by='TipoCambioImplícito', ascending=False).head(top_n)\n",
    "\n",
    "    # Visualización de los resultados\n",
    "    plt.figure(figsize=(10, 6))\n",
    "    plt.barh(mejores['Instrumento1'] + '/' + mejores['Instrumento2'], mejores['TipoCambioImplícito'])\n",
    "    plt.xlabel('Tipo de Cambio Implícito')\n",
    "    plt.title(f'Top {top_n} Mejores Opciones de Tipo de Cambio Implícito')\n",
    "    plt.show()\n",
    "\n",
    "    return mejores\n",
    "\n"
   ]
  },
  {
   "cell_type": "code",
   "execution_count": null,
   "metadata": {},
   "outputs": [],
   "source": []
  },
  {
   "cell_type": "markdown",
   "metadata": {},
   "source": [
    "Aca se requieren datos catualizados y una base de datos real que me lleve registro de estos cambios."
   ]
  },
  {
   "cell_type": "code",
   "execution_count": null,
   "metadata": {},
   "outputs": [],
   "source": [
    "# Ejemplo de uso (se necesitarán datos reales para funcionar correctamente)\n",
    "precios_ejemplo = pd.DataFrame({\n",
    "    'CI': [25.5, 30.75, 40, 50], \n",
    "    '24h': [26, 31, 41, 51], \n",
    "    '48h': [27, 32, 42, 52]\n",
    "}, index=['GD30', 'GD30D', 'Instrumento3', 'Instrumento4'])\n",
    "\n",
    "\n",
    "\n",
    "\n",
    "plazos_ejemplo = ['CI', '24h', '48h']\n",
    "\n",
    "# Calcular tipos de cambio implícito\n",
    "resultados_tc = calcular_tipo_cambio_implícito(precios_ejemplo, plazos_ejemplo)\n",
    "\n",
    "# Calcular combinaciones de tipos de cambio implícito\n",
    "resultados_combinaciones = combinaciones_tipo_cambio_implícito(precios_ejemplo, plazos_ejemplo)\n",
    "\n",
    "# Obtener y mostrar las 5 mejores opciones\n",
    "mejores_opciones = mejores_opciones_tipo_cambio(resultados_tc, top_n=5)"
   ]
  },
  {
   "cell_type": "code",
   "execution_count": null,
   "metadata": {},
   "outputs": [],
   "source": []
  },
  {
   "cell_type": "code",
   "execution_count": null,
   "metadata": {},
   "outputs": [],
   "source": []
  },
  {
   "cell_type": "code",
   "execution_count": null,
   "metadata": {},
   "outputs": [],
   "source": []
  },
  {
   "cell_type": "code",
   "execution_count": null,
   "metadata": {},
   "outputs": [],
   "source": []
  }
 ],
 "metadata": {
  "kernelspec": {
   "display_name": "env",
   "language": "python",
   "name": "python3"
  },
  "language_info": {
   "codemirror_mode": {
    "name": "ipython",
    "version": 3
   },
   "file_extension": ".py",
   "mimetype": "text/x-python",
   "name": "python",
   "nbconvert_exporter": "python",
   "pygments_lexer": "ipython3",
   "version": "3.11.5"
  }
 },
 "nbformat": 4,
 "nbformat_minor": 2
}
